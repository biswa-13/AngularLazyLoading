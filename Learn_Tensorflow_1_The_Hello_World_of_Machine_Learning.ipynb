{
  "nbformat": 4,
  "nbformat_minor": 0,
  "metadata": {
    "colab": {
      "name": "Learn Tensorflow 1: The Hello World of Machine Learning.ipynb",
      "version": "0.3.2",
      "provenance": [],
      "collapsed_sections": []
    },
    "kernelspec": {
      "name": "python3",
      "display_name": "Python 3"
    }
  },
  "cells": [
    {
      "cell_type": "code",
      "metadata": {
        "id": "bSoINIsXni_F",
        "colab_type": "code",
        "colab": {
          "base_uri": "https://localhost:8080/",
          "height": 1000
        },
        "outputId": "25a08a6f-7394-4bb1-e36a-f618c05ce0f2"
      },
      "source": [
        "# reference : https://codelabs.developers.google.com/codelabs/tensorflow-lab1-helloworld/index.html?index=..%2F..index#3\n",
        "\n",
        "# importing packages\n",
        "import tensorflow as tf\n",
        "import numpy as np\n",
        "from tensorflow import keras\n",
        "\n",
        "# defining model\n",
        "model = tf.keras.Sequential([keras.layers.Dense(units=1, input_shape=[1])])\n",
        "\n",
        "# compiling model\n",
        "model.compile(optimizer='sgd', loss='mean_squared_error')\n",
        "\n",
        "# providing data\n",
        "xs = np.array([-1.0, 0.0, 1.0, 2.0, 3.0, 4.0], dtype = float)\n",
        "ys = np.array([-2.0, 1.0, 4.0, 7.0, 10.0, 13.0], dtype = float)\n",
        "\n",
        "\n",
        "# training the model\n",
        "model.fit(xs, ys, epochs=50)\n",
        "\n"
      ],
      "execution_count": 3,
      "outputs": [
        {
          "output_type": "stream",
          "text": [
            "WARNING: Logging before flag parsing goes to stderr.\n",
            "W0812 15:24:08.426412 140547807573888 deprecation.py:506] From /usr/local/lib/python3.6/dist-packages/tensorflow/python/ops/init_ops.py:1251: calling VarianceScaling.__init__ (from tensorflow.python.ops.init_ops) with dtype is deprecated and will be removed in a future version.\n",
            "Instructions for updating:\n",
            "Call initializer instance with the dtype argument instead of passing it to the constructor\n"
          ],
          "name": "stderr"
        },
        {
          "output_type": "stream",
          "text": [
            "Epoch 1/50\n",
            "6/6 [==============================] - 0s 82ms/sample - loss: 54.4156\n",
            "Epoch 2/50\n",
            "6/6 [==============================] - 0s 340us/sample - loss: 42.8118\n",
            "Epoch 3/50\n",
            "6/6 [==============================] - 0s 362us/sample - loss: 33.6825\n",
            "Epoch 4/50\n",
            "6/6 [==============================] - 0s 265us/sample - loss: 26.5000\n",
            "Epoch 5/50\n",
            "6/6 [==============================] - 0s 452us/sample - loss: 20.8492\n",
            "Epoch 6/50\n",
            "6/6 [==============================] - 0s 589us/sample - loss: 16.4033\n",
            "Epoch 7/50\n",
            "6/6 [==============================] - 0s 373us/sample - loss: 12.9056\n",
            "Epoch 8/50\n",
            "6/6 [==============================] - 0s 392us/sample - loss: 10.1537\n",
            "Epoch 9/50\n",
            "6/6 [==============================] - 0s 533us/sample - loss: 7.9887\n",
            "Epoch 10/50\n",
            "6/6 [==============================] - 0s 385us/sample - loss: 6.2853\n",
            "Epoch 11/50\n",
            "6/6 [==============================] - 0s 389us/sample - loss: 4.9452\n",
            "Epoch 12/50\n",
            "6/6 [==============================] - 0s 303us/sample - loss: 3.8908\n",
            "Epoch 13/50\n",
            "6/6 [==============================] - 0s 300us/sample - loss: 3.0613\n",
            "Epoch 14/50\n",
            "6/6 [==============================] - 0s 282us/sample - loss: 2.4087\n",
            "Epoch 15/50\n",
            "6/6 [==============================] - 0s 317us/sample - loss: 1.8952\n",
            "Epoch 16/50\n",
            "6/6 [==============================] - 0s 369us/sample - loss: 1.4913\n",
            "Epoch 17/50\n",
            "6/6 [==============================] - 0s 415us/sample - loss: 1.1734\n",
            "Epoch 18/50\n",
            "6/6 [==============================] - 0s 337us/sample - loss: 0.9234\n",
            "Epoch 19/50\n",
            "6/6 [==============================] - 0s 283us/sample - loss: 0.7266\n",
            "Epoch 20/50\n",
            "6/6 [==============================] - 0s 279us/sample - loss: 0.5719\n",
            "Epoch 21/50\n",
            "6/6 [==============================] - 0s 280us/sample - loss: 0.4501\n",
            "Epoch 22/50\n",
            "6/6 [==============================] - 0s 292us/sample - loss: 0.3543\n",
            "Epoch 23/50\n",
            "6/6 [==============================] - 0s 278us/sample - loss: 0.2789\n",
            "Epoch 24/50\n",
            "6/6 [==============================] - 0s 286us/sample - loss: 0.2196\n",
            "Epoch 25/50\n",
            "6/6 [==============================] - 0s 278us/sample - loss: 0.1729\n",
            "Epoch 26/50\n",
            "6/6 [==============================] - 0s 267us/sample - loss: 0.1362\n",
            "Epoch 27/50\n",
            "6/6 [==============================] - 0s 263us/sample - loss: 0.1073\n",
            "Epoch 28/50\n",
            "6/6 [==============================] - 0s 261us/sample - loss: 0.0845\n",
            "Epoch 29/50\n",
            "6/6 [==============================] - 0s 238us/sample - loss: 0.0667\n",
            "Epoch 30/50\n",
            "6/6 [==============================] - 0s 195us/sample - loss: 0.0526\n",
            "Epoch 31/50\n",
            "6/6 [==============================] - 0s 192us/sample - loss: 0.0415\n",
            "Epoch 32/50\n",
            "6/6 [==============================] - 0s 187us/sample - loss: 0.0328\n",
            "Epoch 33/50\n",
            "6/6 [==============================] - 0s 186us/sample - loss: 0.0259\n",
            "Epoch 34/50\n",
            "6/6 [==============================] - 0s 179us/sample - loss: 0.0205\n",
            "Epoch 35/50\n",
            "6/6 [==============================] - 0s 182us/sample - loss: 0.0163\n",
            "Epoch 36/50\n",
            "6/6 [==============================] - 0s 185us/sample - loss: 0.0129\n",
            "Epoch 37/50\n",
            "6/6 [==============================] - 0s 187us/sample - loss: 0.0103\n",
            "Epoch 38/50\n",
            "6/6 [==============================] - 0s 179us/sample - loss: 0.0082\n",
            "Epoch 39/50\n",
            "6/6 [==============================] - 0s 174us/sample - loss: 0.0066\n",
            "Epoch 40/50\n",
            "6/6 [==============================] - 0s 173us/sample - loss: 0.0053\n",
            "Epoch 41/50\n",
            "6/6 [==============================] - 0s 174us/sample - loss: 0.0043\n",
            "Epoch 42/50\n",
            "6/6 [==============================] - 0s 177us/sample - loss: 0.0035\n",
            "Epoch 43/50\n",
            "6/6 [==============================] - 0s 169us/sample - loss: 0.0028\n",
            "Epoch 44/50\n",
            "6/6 [==============================] - 0s 170us/sample - loss: 0.0023\n",
            "Epoch 45/50\n",
            "6/6 [==============================] - 0s 173us/sample - loss: 0.0019\n",
            "Epoch 46/50\n",
            "6/6 [==============================] - 0s 171us/sample - loss: 0.0016\n",
            "Epoch 47/50\n",
            "6/6 [==============================] - 0s 177us/sample - loss: 0.0014\n",
            "Epoch 48/50\n",
            "6/6 [==============================] - 0s 177us/sample - loss: 0.0012\n",
            "Epoch 49/50\n",
            "6/6 [==============================] - 0s 182us/sample - loss: 0.0010\n",
            "Epoch 50/50\n",
            "6/6 [==============================] - 0s 175us/sample - loss: 8.9123e-04\n"
          ],
          "name": "stdout"
        },
        {
          "output_type": "execute_result",
          "data": {
            "text/plain": [
              "<tensorflow.python.keras.callbacks.History at 0x7fd39cd2fa58>"
            ]
          },
          "metadata": {
            "tags": []
          },
          "execution_count": 3
        }
      ]
    },
    {
      "cell_type": "code",
      "metadata": {
        "id": "aDVZceH6a4VP",
        "colab_type": "code",
        "colab": {
          "base_uri": "https://localhost:8080/",
          "height": 34
        },
        "outputId": "79d36fa4-d00f-40ea-bc5e-8b6ad6e2c9d3"
      },
      "source": [
        "# using/testing the model\n",
        "print(model.predict([10.0]))"
      ],
      "execution_count": 4,
      "outputs": [
        {
          "output_type": "stream",
          "text": [
            "[[30.986906]]\n"
          ],
          "name": "stdout"
        }
      ]
    }
  ]
}