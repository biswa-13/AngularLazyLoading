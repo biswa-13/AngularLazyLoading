{
  "nbformat": 4,
  "nbformat_minor": 0,
  "metadata": {
    "colab": {
      "name": "Python Basics.ipynb",
      "version": "0.3.2",
      "provenance": [],
      "collapsed_sections": [],
      "include_colab_link": true
    },
    "kernelspec": {
      "name": "python3",
      "display_name": "Python 3"
    }
  },
  "cells": [
    {
      "cell_type": "markdown",
      "metadata": {
        "id": "view-in-github",
        "colab_type": "text"
      },
      "source": [
        "<a href=\"https://colab.research.google.com/github/biswa-13/AngularLazyLoading/blob/master/Python_Basics.ipynb\" target=\"_parent\"><img src=\"https://colab.research.google.com/assets/colab-badge.svg\" alt=\"Open In Colab\"/></a>"
      ]
    },
    {
      "metadata": {
        "id": "ooEuHkG-Jk4A",
        "colab_type": "text"
      },
      "cell_type": "markdown",
      "source": [
        "Hi All,<br/>\n",
        "I am<br/>\n",
        "Name: BiswaRanjan Samal<br/>\n",
        "Email: bichhubiswa@gmail.com<br/>\n",
        "Welcome to my Python Basic Course Tutorial, in this tutorial we will learn\n",
        "\n",
        "*   Python Installation\n",
        "\n",
        "*   Python Editors\n",
        "\n",
        "*   Hello World in Python\n",
        "\n",
        "*   Basic Data Types\n",
        "\n",
        "*   Operators\n",
        "\n",
        "*   Conditional Statements\n",
        "\n",
        "*   Loop Statements\n",
        "\n"
      ]
    },
    {
      "metadata": {
        "id": "gBCtxDJPPxrg",
        "colab_type": "text"
      },
      "cell_type": "markdown",
      "source": [
        "**Python Installation** <br/>\n",
        "In this tutorial we are going to use Python V3  and Windows as Operating System, For installation of python visit to [Python Official Website](https://www.python.org/downloads/) and select a version according to your Operating System, download it and install it in your machine. [Remember to add  the Python installation path in the  Path](https://colab.research.google.com/drive/1GseCd5ImqN9aN_CbOtssNxksb5VZrLf-#scrollTo=8ptN8S9gWLda&line=9&uniqifier=1)\n",
        "    \n",
        "Ex : *C:\\Users\\HP\\AppData\\Local\\Programs\\Python\\Python36\\Scripts*\n",
        "\n",
        "To Check if it's correctly installed or not, open Command Prompt and enter below command, it will show the version details.\n",
        "\n",
        "Syntax: *python -V* <br/>\n",
        "Output: Python 3.6.5\n"
      ]
    },
    {
      "metadata": {
        "id": "8ptN8S9gWLda",
        "colab_type": "text"
      },
      "cell_type": "markdown",
      "source": [
        "**How to set Python in Windows Path**<br/>\n",
        "-> Right click on My Computer<br/>\n",
        "-> Select Properties<br/>\n",
        "-> Select Advance System Settings<br/>\n",
        "-> Select Advanced Tab<br/>\n",
        "-> Select Enviornment Variables<br/>\n",
        "-> Select Path then click on Edit <br/>\n",
        "-> Enter your Python installation directory path<br/>\n",
        "     Ex : *C:\\Users\\HP\\AppData\\Local\\Programs\\Python\\Python36\\Scripts*<br/>\n",
        "-> ok\n"
      ]
    },
    {
      "metadata": {
        "id": "zGGW5yqENAvR",
        "colab_type": "text"
      },
      "cell_type": "markdown",
      "source": [
        "**Python Editors** <br/>\n",
        "-> Default editor for python must be installed with the basic installatioon of the python you can **search for it by typing IDLE or Python**  in windows application search window. <br/>\n",
        "-> **Jet Brains PyCharm** is also a very good editor for the Python coding/practice, which you can get from [PyCharm Community Edition](https://www.jetbrains.com/pycharm/download/#section=windows) <br/>\n",
        "-> If you don't want to install any editor or even if you don't want to install the python too in you system, there is another prefered option for it, which [Google Colab Python Notebook](https://colab.research.google.com/notebooks/welcome.ipynb) Benefits of using it is you can practice Python online **no need of worried for installing packages and consumption of your system memories as well here you have options for selecting CPU/GPU** for running your Python programming.<br/>\n"
      ]
    },
    {
      "metadata": {
        "id": "9zn11vT1b5tT",
        "colab_type": "text"
      },
      "cell_type": "markdown",
      "source": [
        "**Hello World in Python**<br/>\n",
        "-> I wish all the above steps/settings must have done and now Python must be working fine.<br/>\n",
        "-> So being a programmer we should begin our journey with a traditional Hello  world program.\n",
        "-> Open the installed Editor and type below code and execute it\n"
      ]
    },
    {
      "metadata": {
        "id": "Iwe_-K9LOQz1",
        "colab_type": "code",
        "colab": {
          "base_uri": "https://localhost:8080/",
          "height": 34
        },
        "outputId": "89a4be7f-7212-4857-fc9e-76e36890c0d6"
      },
      "cell_type": "code",
      "source": [
        "Ex: print(\"Hello World\")"
      ],
      "execution_count": 1,
      "outputs": [
        {
          "output_type": "stream",
          "text": [
            "Hello World\n"
          ],
          "name": "stdout"
        }
      ]
    }
  ]
}