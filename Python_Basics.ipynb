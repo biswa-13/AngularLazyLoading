{
  "nbformat": 4,
  "nbformat_minor": 0,
  "metadata": {
    "colab": {
      "name": "Python Basics.ipynb",
      "version": "0.3.2",
      "provenance": [],
      "collapsed_sections": [],
      "include_colab_link": true
    },
    "kernelspec": {
      "name": "python3",
      "display_name": "Python 3"
    }
  },
  "cells": [
    {
      "cell_type": "markdown",
      "metadata": {
        "id": "view-in-github",
        "colab_type": "text"
      },
      "source": [
        "<a href=\"https://colab.research.google.com/github/biswa-13/AngularLazyLoading/blob/master/Python_Basics.ipynb\" target=\"_parent\"><img src=\"https://colab.research.google.com/assets/colab-badge.svg\" alt=\"Open In Colab\"/></a>"
      ]
    },
    {
      "metadata": {
        "id": "ooEuHkG-Jk4A",
        "colab_type": "text"
      },
      "cell_type": "markdown",
      "source": [
        "Hi All,<br/>\n",
        "I am<br/>\n",
        "Name: BiswaRanjan Samal<br/>\n",
        "Email: bichhubiswa@gmail.com<br/>\n",
        "\n",
        "\n",
        "---\n",
        "\n",
        "Welcome to my Python Basic Course Tutorial, in this tutorial we will learn\n",
        "\n",
        "*   Python Installation\n",
        "\n",
        "*   Python Editors\n",
        "\n",
        "*   Hello World in Python\n",
        "\n",
        "*   Python Coding Guidelines\n",
        "\n",
        "*   Basic Data Types\n",
        "\n",
        "*   Operators\n",
        "\n",
        "*   Conditional Statements\n",
        "\n",
        "*   Loop Statements\n",
        "\n"
      ]
    },
    {
      "metadata": {
        "id": "gBCtxDJPPxrg",
        "colab_type": "text"
      },
      "cell_type": "markdown",
      "source": [
        "**[ Python Installation ]** <br/>\n",
        "\n",
        "\n",
        "---\n",
        "\n",
        "In this tutorial we are going to use Python V3  and Windows as Operating System, For installation of python visit to [Python Official Website](https://www.python.org/downloads/) and select a version according to your Operating System, download it and install it in your machine. [Remember to add  the Python installation path in the  Path](https://colab.research.google.com/drive/1GseCd5ImqN9aN_CbOtssNxksb5VZrLf-#scrollTo=8ptN8S9gWLda&line=9&uniqifier=1)\n",
        "    \n",
        "Ex : *C:\\Users\\HP\\AppData\\Local\\Programs\\Python\\Python36\\Scripts*\n",
        "\n",
        "To Check if it's correctly installed or not, open Command Prompt and enter below command, it will show the version details.\n",
        "\n",
        "Syntax: *python -V* <br/>\n",
        "Output: Python 3.6.5\n"
      ]
    },
    {
      "metadata": {
        "id": "8ptN8S9gWLda",
        "colab_type": "text"
      },
      "cell_type": "markdown",
      "source": [
        "**How to set Python in Windows Path**<br/>\n",
        "-> Right click on My Computer<br/>\n",
        "-> Select Properties<br/>\n",
        "-> Select Advance System Settings<br/>\n",
        "-> Select Advanced Tab<br/>\n",
        "-> Select Enviornment Variables<br/>\n",
        "-> Select Path then click on Edit <br/>\n",
        "-> Enter your Python installation directory path<br/>\n",
        "     Ex : *C:\\Users\\HP\\AppData\\Local\\Programs\\Python\\Python36\\Scripts*<br/>\n",
        "-> ok\n"
      ]
    },
    {
      "metadata": {
        "id": "zGGW5yqENAvR",
        "colab_type": "text"
      },
      "cell_type": "markdown",
      "source": [
        "**[ Python Editors ]** <br/>\n",
        "\n",
        "\n",
        "---\n",
        "\n",
        "-> Default editor for python must be installed with the basic installation of the python you can **search for it by typing IDLE or Python**  in windows application search window. <br/>\n",
        "-> **Jet Brains PyCharm** is also a very good editor for the Python coding/practice, which you can get from [PyCharm Community Edition](https://www.jetbrains.com/pycharm/download/#section=windows) <br/>\n",
        "-> If you don't want to install any editor or even if you don't want to install the python too in you system, there is another preferred option for it, which [Google Colab Python Notebook](https://colab.research.google.com/notebooks/welcome.ipynb) Benefits of using it is you can practice Python online **no need of worried for installing packages and consumption of your system memories as well here you have options for selecting CPU/GPU** for running your Python programming.<br/>\n"
      ]
    },
    {
      "metadata": {
        "id": "9zn11vT1b5tT",
        "colab_type": "text"
      },
      "cell_type": "markdown",
      "source": [
        "**[ Hello World in Python ]**<br/>\n",
        "\n",
        "\n",
        "---\n",
        "\n",
        "-> I wish all the above steps/settings must have done and now Python must be working fine.<br/>\n",
        "-> So being a programmer we should begin our journey with a traditional Hello world program.\n",
        "-> Open the installed Editor and type below code and execute it\n"
      ]
    },
    {
      "metadata": {
        "id": "Iwe_-K9LOQz1",
        "colab_type": "code",
        "colab": {
          "base_uri": "https://localhost:8080/",
          "height": 34
        },
        "outputId": "89a4be7f-7212-4857-fc9e-76e36890c0d6"
      },
      "cell_type": "code",
      "source": [
        "Ex: print(\"Hello World\")"
      ],
      "execution_count": 1,
      "outputs": [
        {
          "output_type": "stream",
          "text": [
            "Hello World\n"
          ],
          "name": "stdout"
        }
      ]
    },
    {
      "metadata": {
        "id": "ZQ8kR-uWeofL",
        "colab_type": "text"
      },
      "cell_type": "markdown",
      "source": [
        "**[ Python Coding Guidelines ]**<br/>\n",
        "\n",
        "\n",
        "---\n",
        "\n",
        "-> As of now we are done with the basic Hello world Python program so going forward being a programmer we must learn the guidelines, assumptions, DO's and DONT'S. <br\\>\n",
        "==> **File Extension** <br/>\n",
        "-> The extension of the python file is  ***.py**.<br/>\n",
        "==> **Naming Convention**<br/>\n",
        "-> Variables/function names  should start with either of alphabets within [A-Z], [a-z], _, and could be followed by other alphabets and numbers except [@, %, $] . <br/>\n",
        "-> Also you should avoid the use of reserved words. <br/>\n",
        "==>**Case Sensitiveness**<br/>\n",
        "-> Python is a strict Case Sensitive language which means \"Biswa\" and \"biswa\" will be treated as different. <br/>\n",
        "==>**Lines and Indentations**<br/>\n",
        "-> In Python there is no curly braces for grouping of codes, python has its own way of grouping the codes which says a group of code is denoted by line indentation and it is tightly enforced. <br/>\n",
        "-> The line indentation can be customized but codes of the same group must have the same indentation.<br\\>\n",
        "\n",
        "Ex:"
      ]
    },
    {
      "metadata": {
        "id": "tzYgAihLp_lM",
        "colab_type": "code",
        "colab": {
          "base_uri": "https://localhost:8080/",
          "height": 34
        },
        "outputId": "07094357-4b23-4043-cd3a-f5200a74ebf7"
      },
      "cell_type": "code",
      "source": [
        "if 1:\n",
        "  print(1)\n",
        "else:\n",
        "  print(2)\n"
      ],
      "execution_count": 9,
      "outputs": [
        {
          "output_type": "stream",
          "text": [
            "1\n"
          ],
          "name": "stdout"
        }
      ]
    },
    {
      "metadata": {
        "id": "XNmY4a6wqdV6",
        "colab_type": "text"
      },
      "cell_type": "markdown",
      "source": [
        "==>**Comments and Quotes**<br/>\n",
        "-> Python accepts single quotes(' '), double quotes(\" \"), triple quotes(''' ''') for diclaring Strings.<br/>\n",
        "-> The ending quote must match with the starting quote, and triple quote can be used for denoting multi line strings.<br/>\n",
        "-> # symbol is used before the string/line you want to comment.\n",
        "\n",
        "Ex:"
      ]
    },
    {
      "metadata": {
        "id": "dyfwQnL0rRJc",
        "colab_type": "code",
        "colab": {
          "base_uri": "https://localhost:8080/",
          "height": 102
        },
        "outputId": "f8d65d4f-7dd9-4716-c26e-3b1045943934"
      },
      "cell_type": "code",
      "source": [
        "name = 'Banchha13'\n",
        "hobby = \"listening to musics\"\n",
        "address = '''Hi Reader,\n",
        "How are you ??\n",
        "'''\n",
        "print(name)\n",
        "print(hobby)\n",
        "#Printing the multiline string , this line is going to be ignored\n",
        "print(address)"
      ],
      "execution_count": 10,
      "outputs": [
        {
          "output_type": "stream",
          "text": [
            "Banchha13\n",
            "listening to musics\n",
            "Hi Reader,\n",
            "How are you ??\n",
            "\n"
          ],
          "name": "stdout"
        }
      ]
    },
    {
      "metadata": {
        "id": "KKtV9fdgs56b",
        "colab_type": "text"
      },
      "cell_type": "markdown",
      "source": [
        "**[ Basic Data Types ]**<br/>\n",
        "\n",
        "---\n",
        "-> Python has below data types\n",
        "\n",
        "*   Numbers\n",
        "*   String\n",
        "*   Tuples\n",
        "*    List\n",
        "*   Dictionary\n",
        "\n",
        "==> **Numbers** <br/>\n",
        "-> There 4 types of numerical which are supported by the Python \n",
        "\n",
        "*   int : These are numerical values which can be postive/negative whole numbers.<br/>\n",
        "\n",
        "&nbsp;&nbsp;&nbsp;&nbsp;&nbsp;&nbsp;&nbsp;Ex : val1 = 13125\n",
        "\n",
        "*   Long : These are numerical values which are longer than  the normal int values and could not be stored with int. The numerical values must be followed by a 'L' . <br/>\n",
        "&nbsp;&nbsp;&nbsp;&nbsp;&nbsp;&nbsp;&nbsp;Ex: val2 = 7205287890L<br/>\n",
        "\n",
        "*   Float : These are the numerical values separated with the a deciamal point. <br/>\n",
        "&nbsp;&nbsp;&nbsp;&nbsp;&nbsp;&nbsp;&nbsp;Ex: val2 = 1312.5<br/>\n",
        "\n",
        "*   Complex : These are the numerical values in form of a+bj.<br/>\n",
        "&nbsp;&nbsp;&nbsp;&nbsp;&nbsp;&nbsp;&nbsp;Ex: val2 = 1312.5j<br/>\n",
        "\n",
        "**Below are some Hands On Exercise for Practice**"
      ]
    },
    {
      "metadata": {
        "id": "gUQUzJfUI7ZR",
        "colab_type": "code",
        "colab": {
          "base_uri": "https://localhost:8080/",
          "height": 85
        },
        "outputId": "6bc82378-f283-40c9-e110-9b2ce010ae20"
      },
      "cell_type": "code",
      "source": [
        "a = 10\n",
        "b = 1.21\n",
        "c = 535633629843535633629843535633629843535633629843\n",
        "d = 45+6j\n",
        "\n",
        "# printing variables\n",
        "print(a);print(b);print(c);print(d)"
      ],
      "execution_count": 22,
      "outputs": [
        {
          "output_type": "stream",
          "text": [
            "10\n",
            "1.21\n",
            "535633629843535633629843535633629843535633629843\n",
            "(45+6j)\n"
          ],
          "name": "stdout"
        }
      ]
    },
    {
      "metadata": {
        "id": "Ca2cWuZiJT4-",
        "colab_type": "code",
        "colab": {
          "base_uri": "https://localhost:8080/",
          "height": 214
        },
        "outputId": "0cddbb4d-199f-4eeb-e536-cd69a58a94e8"
      },
      "cell_type": "code",
      "source": [
        "print(a,b)\n",
        "# demo of del statement for deleting variables\n",
        "del a,b\n",
        "\n",
        "print(a) #It will throw an error as we have already removed a"
      ],
      "execution_count": 23,
      "outputs": [
        {
          "output_type": "stream",
          "text": [
            "10 1.21\n"
          ],
          "name": "stdout"
        },
        {
          "output_type": "error",
          "ename": "NameError",
          "evalue": "ignored",
          "traceback": [
            "\u001b[0;31m---------------------------------------------------------------------------\u001b[0m",
            "\u001b[0;31mNameError\u001b[0m                                 Traceback (most recent call last)",
            "\u001b[0;32m<ipython-input-23-2331a95b15e3>\u001b[0m in \u001b[0;36m<module>\u001b[0;34m()\u001b[0m\n\u001b[1;32m      3\u001b[0m \u001b[0;32mdel\u001b[0m \u001b[0ma\u001b[0m\u001b[0;34m,\u001b[0m\u001b[0mb\u001b[0m\u001b[0;34m\u001b[0m\u001b[0;34m\u001b[0m\u001b[0m\n\u001b[1;32m      4\u001b[0m \u001b[0;34m\u001b[0m\u001b[0m\n\u001b[0;32m----> 5\u001b[0;31m \u001b[0mprint\u001b[0m\u001b[0;34m(\u001b[0m\u001b[0ma\u001b[0m\u001b[0;34m)\u001b[0m \u001b[0;31m#It will throw an error as we have already removed a\u001b[0m\u001b[0;34m\u001b[0m\u001b[0;34m\u001b[0m\u001b[0m\n\u001b[0m",
            "\u001b[0;31mNameError\u001b[0m: name 'a' is not defined"
          ]
        }
      ]
    },
    {
      "metadata": {
        "id": "BxxsGZ-sKfp-",
        "colab_type": "code",
        "colab": {}
      },
      "cell_type": "code",
      "source": [
        ""
      ],
      "execution_count": 0,
      "outputs": []
    }
  ]
}