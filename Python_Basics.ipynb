{
  "nbformat": 4,
  "nbformat_minor": 0,
  "metadata": {
    "colab": {
      "name": "Python Basics.ipynb",
      "version": "0.3.2",
      "provenance": [],
      "collapsed_sections": [],
      "include_colab_link": true
    },
    "kernelspec": {
      "name": "python3",
      "display_name": "Python 3"
    }
  },
  "cells": [
    {
      "cell_type": "markdown",
      "metadata": {
        "id": "view-in-github",
        "colab_type": "text"
      },
      "source": [
        "<a href=\"https://colab.research.google.com/github/biswa-13/AngularLazyLoading/blob/master/Python_Basics.ipynb\" target=\"_parent\"><img src=\"https://colab.research.google.com/assets/colab-badge.svg\" alt=\"Open In Colab\"/></a>"
      ]
    },
    {
      "metadata": {
        "id": "ooEuHkG-Jk4A",
        "colab_type": "text"
      },
      "cell_type": "markdown",
      "source": [
        "Hi All,<br/>\n",
        "I am BiswaRanjan Samal and Welcome to my Python Basic Course Tutorial, in this tutorial we will learn\n",
        "\n",
        "*   Python Installation\n",
        "\n",
        "*   Python Editors\n",
        "\n",
        "*   Hello World in Python\n",
        "\n",
        "*   Basic Data Types\n",
        "\n",
        "*   Operators\n",
        "\n",
        "*   Conditional Statements\n",
        "\n",
        "*   Loop Statements\n",
        "\n"
      ]
    },
    {
      "metadata": {
        "id": "gBCtxDJPPxrg",
        "colab_type": "text"
      },
      "cell_type": "markdown",
      "source": [
        "**Python Installation** <br/>\n",
        "In this tutorial we are going to use Python V3  and Windows as Operating System, For installation of python visit to [Python Official Website](https://www.python.org/downloads/) and select a version according to your Operating System, download it and install it in your machine. [Remember to add  the Python installation path in the  Path](https://colab.research.google.com/drive/1GseCd5ImqN9aN_CbOtssNxksb5VZrLf-#scrollTo=8ptN8S9gWLda&line=9&uniqifier=1)\n",
        "    \n",
        "Ex : *C:\\Users\\HP\\AppData\\Local\\Programs\\Python\\Python36\\Scripts*\n",
        "\n",
        "To Check if it's correctly installed or not, open Command Prompt and enter below command, it will show the version details.\n",
        "\n",
        "Syntax: *python -V* <br/>\n",
        "Output: Python 3.6.5\n"
      ]
    },
    {
      "metadata": {
        "id": "8ptN8S9gWLda",
        "colab_type": "text"
      },
      "cell_type": "markdown",
      "source": [
        "**How to set Python in Windows Path**<br/>\n",
        "-> Right click on My Computer<br/>\n",
        "-> Select Properties<br/>\n",
        "-> Select Advance System Settings<br/>\n",
        "-> Select Advanced Tab<br/>\n",
        "-> Select Enviornment Variables<br/>\n",
        "-> Select Path then click on Edit <br/>\n",
        "-> Enter your Python installation directory path<br/>\n",
        "     Ex : *C:\\Users\\HP\\AppData\\Local\\Programs\\Python\\Python36\\Scripts*<br/>\n",
        "-> ok\n"
      ]
    },
    {
      "metadata": {
        "id": "Iwe_-K9LOQz1",
        "colab_type": "code",
        "colab": {}
      },
      "cell_type": "code",
      "source": [
        ""
      ],
      "execution_count": 0,
      "outputs": []
    }
  ]
}